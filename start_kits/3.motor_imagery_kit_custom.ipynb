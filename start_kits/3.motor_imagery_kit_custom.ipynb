{
 "cells": [
  {
   "cell_type": "markdown",
   "metadata": {},
   "source": [
    "# Start kit for Task 2 - Motor imagery decoding transfer learning challenge\n",
    "\n",
    "\n",
    "We recommand you to read the 'LeaderboardDataGuide' and visit the https://beetl.ai to get familar with data and tasks before you read this start kit.\n",
    "\n",
    "<p> &#10071; <b>Important</b> &#10071; </p>\n",
    "For the competition, please MAKE SURE that your model and uploaded labels are reproducible. We will run winner's code and generate the label to compare with the uploaded labels.\n",
    "\n",
    "\n",
    "## Objective of the tutorial\n",
    "\n",
    "In this start kit, we will show how to use [MOABB](http://moabb.neurotechx.com/docs/index.html) to load `BNCI2014001`, `Cho2017` and `PhysionetMI` motor imagery datasets for the cross-dataset and cross-subject challenge. We also show an example pipeline of the challenge including:\n",
    "\n",
    "- Environment setup\n",
    "- Source motor imagery datasets loading\n",
    "- Source and target domain data organisation\n",
    "- Training and evaluation procedure using an example shallow CNN, using [BrainDecode](https://braindecode.org)\n",
    "\n",
    "References:\n",
    "\n",
    "> <p>&#128218;  Schirrmeister, Robin Tibor, et al. \"Deep learning with convolutional neural networks for EEG decoding and visualization.\" Human brain mapping 38.11 (2017): 5391-5420. </p>"
   ]
  },
  {
   "cell_type": "markdown",
   "metadata": {},
   "source": [
    "## Environment Setup"
   ]
  },
  {
   "cell_type": "markdown",
   "metadata": {},
   "source": [
    "1. Install pytorch from http://pytorch.org/ (you don't need to install torchvision).\n",
    "1. Install MOABB with pip: `pip install moabb`\n",
    "1. Install latest release of braindecode via pip: `pip install braindecode`\n",
    "1. You will also need mne, matplotlib, scikit-learn and pandas\n",
    "1. If you want to automatically download the data, you could install the helper code with `pip install git+https://github.com/sylvchev/beetl-competition`\n",
    "\n",
    "Let's import packages and set random seed. "
   ]
  },
  {
   "cell_type": "code",
   "execution_count": 1,
   "metadata": {},
   "outputs": [],
   "source": [
    "%matplotlib inline"
   ]
  },
  {
   "cell_type": "code",
   "execution_count": 2,
   "metadata": {},
   "outputs": [
    {
     "name": "stderr",
     "output_type": "stream",
     "text": [
      "/home/hainguyen/miniconda3/envs/eggnet/lib/python3.10/site-packages/tqdm/auto.py:22: TqdmWarning: IProgress not found. Please update jupyter and ipywidgets. See https://ipywidgets.readthedocs.io/en/stable/user_install.html\n",
      "  from .autonotebook import tqdm as notebook_tqdm\n",
      "/home/hainguyen/miniconda3/envs/eggnet/lib/python3.10/site-packages/torch/cuda/__init__.py:83: UserWarning: CUDA initialization: CUDA unknown error - this may be due to an incorrectly set up environment, e.g. changing env variable CUDA_VISIBLE_DEVICES after program start. Setting the available devices to be zero. (Triggered internally at  /opt/conda/conda-bld/pytorch_1656352645774/work/c10/cuda/CUDAFunctions.cpp:109.)\n",
      "  return torch._C._cuda_getDeviceCount() > 0\n"
     ]
    },
    {
     "name": "stdout",
     "output_type": "stream",
     "text": [
      "gpu:  False\n"
     ]
    }
   ],
   "source": [
    "from braindecode.util import set_random_seeds, np_to_var, var_to_np\n",
    "import matplotlib.pyplot as plt\n",
    "from moabb.datasets import BNCI2014001, Cho2017, PhysionetMI\n",
    "from moabb.paradigms import MotorImagery\n",
    "import numpy as np\n",
    "from numpy.random import RandomState\n",
    "import pickle\n",
    "import time\n",
    "import torch\n",
    "from torch import nn\n",
    "from torch import optim\n",
    "import torch.nn.functional as F\n",
    "\n",
    "import mne\n",
    "\n",
    "import util.shallow_net\n",
    "from util.utilfunc import get_balanced_batches\n",
    "from util.preproc import plot_confusion_matrix\n",
    "\n",
    "cuda = torch.cuda.is_available()\n",
    "print('gpu: ', cuda)\n",
    "device = 'cuda' if cuda else 'cpu'\n",
    "\n",
    "seed = 42\n",
    "torch.manual_seed(seed)\n",
    "torch.cuda.manual_seed(seed)\n",
    "np.random.seed(seed)\n",
    "torch.backends.cudnn.deterministic = True\n",
    "rng = RandomState(seed)"
   ]
  },
  {
   "cell_type": "markdown",
   "metadata": {},
   "source": [
    "To download source MI datasets, we will use MOABB. By default, the datasets are downloaded in a `mne_data` folder in your home directory. To change this default repository, uncomment the next lines of codes and indicate the chosen path."
   ]
  },
  {
   "cell_type": "code",
   "execution_count": 3,
   "metadata": {},
   "outputs": [],
   "source": [
    "# from moabb.utils import set_download_dir\n",
    "# set_download_dir(\"/path/to/my/datasets\")"
   ]
  },
  {
   "cell_type": "markdown",
   "metadata": {},
   "source": [
    "The next blocks download the data from the first subject of `BNCI2014001`, `Cho2017`, `PhysionetMI` and print information regarding the data."
   ]
  },
  {
   "cell_type": "code",
   "execution_count": 4,
   "metadata": {},
   "outputs": [],
   "source": [
    "# subj = 1\n",
    "# for dataset in [BNCI2014001(), PhysionetMI(), Cho2017()]:\n",
    "#     data = dataset.get_data(subjects=[subj])\n",
    "#     ds_name = dataset.code\n",
    "#     ds_type = dataset.paradigm\n",
    "#     sess = 'session_T' if ds_name == \"001-2014\" else 'session_0'\n",
    "#     run = sorted(data[subj][sess])[0]\n",
    "#     ds_ch_names = data[subj][sess][run].info['ch_names']  # [0:22]\n",
    "#     ds_sfreq = data[subj][sess][run].info['sfreq']\n",
    "#     print(\"{} is an {} dataset, acquired at {} Hz, with {} electrodes\\nElectrodes names: \".format(ds_name, ds_type, ds_sfreq, len(ds_ch_names)))\n",
    "#     print(ds_ch_names)\n",
    "#     print()"
   ]
  },
  {
   "cell_type": "markdown",
   "metadata": {},
   "source": [
    "# Loading MI Data\n",
    "\n",
    "We will use the first 3 subjects of `Cho2017` and first 5 subjects of `PhysionetMI` as the source data and we will use the first subject from `BNCI2014001` as the target subject we would like to transfer to. We directly regard trials other than left/right hand MI as 'other' and train them together, you could come up with your own strategy for this transfering like from rest to tongue or so.\n",
    "\n",
    "Note here that the data labels are not balanced, and cross dataset transfer learning is still a challenge in the literature (with different channel sizes, sampling rate, window length even hardware for data collection sometimes). Here is just an example adding the calibration target samples into the training pool, which is just an example yet not a 'solution'. Please come up with your own strategies.\n",
    "\n",
    "To summarize, we will split the data as such:\n",
    "\n",
    "- training: source data from subjects 1, 2, 3 of `Cho2017` (only left- and right-hand) and subjects 1, 2, 3, 4, 5 from `PhysionetMI` (left-hand, right-hand and 'other'), and the first 100 trials from subject 1 of target dataset `BNCI2014001` (left-hand, right-hand and 'other')\n",
    "- validation: 50 trials from subject 1 of `BNCI2014001` with left-hand, right-hand and 'other'.\n",
    "- test: the rest of the trials from subject 1 of `BNCI2014001`, as target data, with left-hand, right-hand and 'other'.\n",
    "\n",
    "First, lets get the data using correct bandpass filter, resampling and electrode selection to match target domain. Here we simply selected the common electrodes as an example, you could come up with your own channel transfer strategies."
   ]
  },
  {
   "cell_type": "code",
   "execution_count": 5,
   "metadata": {},
   "outputs": [],
   "source": [
    "# ds_src1 = Cho2017()\n",
    "# ds_src2 = PhysionetMI()\n",
    "# ds_tgt = BNCI2014001()\n",
    "\n",
    "# fmin, fmax = 4, 32\n",
    "# raw = ds_tgt.get_data(subjects=[1])[1]['session_T']['run_1']\n",
    "# tgt_channels = raw.pick_types(eeg=True).ch_names\n",
    "# sfreq = 250.\n",
    "# prgm_2classes = MotorImagery(n_classes=2, channels=tgt_channels, resample=sfreq, fmin=fmin, fmax=fmax)\n",
    "# prgm_4classes = MotorImagery(n_classes=4, channels=tgt_channels, resample=sfreq, fmin=fmin, fmax=fmax)\n",
    "\n",
    "# X_src1, label_src1, m_src1 = prgm_2classes.get_data(dataset=ds_src1, subjects=[1, 2, 3])\n",
    "# X_src2, label_src2, m_src2 = prgm_4classes.get_data(dataset=ds_src2, subjects=[1, 2, 3, 4, 5])\n",
    "# X_tgt, label_tgt, m_tgt = prgm_4classes.get_data(dataset=ds_tgt, subjects=[1])\n",
    "\n",
    "# print(\"First source dataset has {} trials with {} electrodes and {} time samples\".format(*X_src1.shape))\n",
    "# print(\"Second source dataset has {} trials with {} electrodes and {} time samples\".format(*X_src2.shape))\n",
    "# print(\"Target dataset has {} trials with {} electrodes and {} time samples\".format(*X_tgt.shape))\n",
    "\n",
    "# print (\"\\nSource dataset 1 include labels: {}\".format(np.unique(label_src1)))\n",
    "# print (\"Source dataset 2 include labels: {}\".format(np.unique(label_src2)))\n",
    "# print (\"Target dataset 1 include labels: {}\".format(np.unique(label_tgt)))\n",
    "\n",
    "# import glob\n",
    "# import os.path as osp\n",
    "# import os\n",
    "# import mne\n",
    "# # 6 subjects (patients) with total 54 collect data times\n",
    "# data_root = '/home/hainguyen/Downloads/als-patients'\n",
    "# patient_dirs = sorted(glob.glob(osp.join(data_root, '*')))\n",
    "\n",
    "# train_dirs = patient_dirs[:int(len(patient_dirs) * 7 / 10)]\n",
    "# test_dirs = [dir for dir in patient_dirs if dir not in train_dirs]\n",
    "\n",
    "# sfreq = 128\n",
    "# fmin, fmax = 4, 32\n",
    "# nb_classes = 2\n",
    "\n",
    "# # get channels name\n",
    "# test_src_path = osp.join(test_dirs[0], 'sample1/EEG.edf')\n",
    "# tgt_data = mne.io.read_raw_edf(test_src_path)\n",
    "# raw = tgt_data.get_data()\n",
    "# tgt_chans = tgt_data.ch_names\n",
    "\n",
    "# # prgm_2classes = MotorImagery(n_classes=2, channels=tgt_chans, resample=sfreq, fmin=fmin, fmax=fmax)\n",
    "\n",
    "# raw.shape\n",
    "# # for patient in train_dirs:\n",
    "# #     patient_id = osp.basename(patient)\n",
    "# #     left_data = osp.join(patient, 'sample1/EEG.edf')\n",
    "# #     right_data = osp.join(patient, 'sample2/EEG.edf')\n",
    "    \n",
    "\n"
   ]
  },
  {
   "cell_type": "markdown",
   "metadata": {},
   "source": [
    "As explained above, we will use only left- and right-hand labels, the other labels will be listed as other."
   ]
  },
  {
   "cell_type": "code",
   "execution_count": 6,
   "metadata": {},
   "outputs": [],
   "source": [
    "# def relabel(l):\n",
    "#     if l == 'left_hand': return 0\n",
    "#     elif l == 'right_hand': return 1\n",
    "#     else: return 2\n",
    "\n",
    "\n",
    "# y_src1 = np.array([relabel(l) for l in label_src1])\n",
    "# y_src2 = np.array([relabel(l) for l in label_src2])\n",
    "# y_tgt = np.array([relabel(l) for l in label_tgt])\n",
    "\n",
    "# print(\"Only right-/left-hand labels are used and first source dataset does not have other labels:\")\n",
    "# print(np.unique(y_src1), np.unique(y_src2), np.unique(y_tgt))"
   ]
  },
  {
   "cell_type": "code",
   "execution_count": 7,
   "metadata": {},
   "outputs": [
    {
     "name": "stdout",
     "output_type": "stream",
     "text": [
      "Train:  there are 9904 trials with 32 electrodes and 256 time samples\n",
      "\n",
      "Validation: there are 2052 trials with 32 electrodes and 256 time samples\n",
      "\n",
      "Test: there are 2052 trials with 32 electrodes and 256 time samples\n"
     ]
    }
   ],
   "source": [
    "# window_size = min(X_src1.shape[2], X_src2.shape[2], X_tgt.shape[2])\n",
    "\n",
    "# X_train = np.concatenate((X_src1[:, :, :window_size], X_src2[:, :, :window_size], X_tgt[:100, :, :window_size]))\n",
    "# y_train = np.concatenate((y_src1, y_src2, y_tgt[:100]))\n",
    "\n",
    "# X_val = X_tgt[100:150, :, :window_size]\n",
    "# y_val = y_tgt[100:150]\n",
    "\n",
    "# X_test = X_tgt[150:, :, :window_size]\n",
    "# y_test = y_tgt[150:]\n",
    "\n",
    "np_root = '/home/hainguyen/Documents/Deep_Learning_Projects/code/NeurIPS_BEETL/numpy_data_binary'\n",
    "\n",
    "X_train = np.load(f'{np_root}/X_train.npy')\n",
    "y_train = np.load(f'{np_root}/y_train.npy')\n",
    "\n",
    "X_val = np.load(f'{np_root}/X_val.npy')\n",
    "y_val = np.load(f'{np_root}/y_val.npy')\n",
    "\n",
    "X_test = np.load(f'{np_root}/X_test.npy')\n",
    "y_test = np.load(f'{np_root}/y_test.npy')\n",
    "\n",
    "window_size = 250\n",
    "\n",
    "print(\"Train:  there are {} trials with {} electrodes and {} time samples\".format(*X_train.shape))\n",
    "print(\"\\nValidation: there are {} trials with {} electrodes and {} time samples\".format(*X_val.shape))\n",
    "print(\"\\nTest: there are {} trials with {} electrodes and {} time samples\".format(*X_test.shape))"
   ]
  },
  {
   "cell_type": "markdown",
   "metadata": {},
   "source": [
    "**Warning** \n",
    "Data are not normalized and labels are not balanced. Please come up with your strategy.\n",
    "\n",
    "## Training a CNN\n",
    "\n",
    "Here, we use a shallow CNN structure as an example, you should replace it with your own algorithm here."
   ]
  },
  {
   "cell_type": "code",
   "execution_count": 8,
   "metadata": {},
   "outputs": [],
   "source": [
    "class TrainObject(object):\n",
    "    def __init__(self, X, y):\n",
    "        assert len(X) == len(y)\n",
    "        # Normalised, you could choose other normalisation strategy\n",
    "        mean = np.mean(X,axis=1,keepdims=True)\n",
    "        # here normalise across channels as an example, unlike the in the sleep kit\n",
    "        std = np.std(X, axis=1, keepdims=True)\n",
    "        X = (X - mean) / std\n",
    "        # we scale it to 1000 as a better training scale of the shallow CNN\n",
    "        # according to the orignal work of the paper referenced above\n",
    "        self.X = X.astype(np.float32) * 1e3\n",
    "        self.y = y.astype(np.int64)\n",
    "\n",
    "train_set = TrainObject(X_train, y=y_train)\n",
    "valid_set = TrainObject(X_val, y=y_val)\n",
    "test_set = TrainObject(X_test, y=y_test)"
   ]
  },
  {
   "cell_type": "code",
   "execution_count": 9,
   "metadata": {},
   "outputs": [
    {
     "name": "stderr",
     "output_type": "stream",
     "text": [
      "/home/hainguyen/miniconda3/envs/eggnet/lib/python3.10/site-packages/braindecode/util.py:66: UserWarning: np_to_var has been renamed np_to_th, please use np_to_th instead\n",
      "  warn(\"np_to_var has been renamed np_to_th, please use np_to_th instead\")\n"
     ]
    }
   ],
   "source": [
    "in_chans = X_train.shape[1]\n",
    "labelsize = len(np.unique(y_train))\n",
    "model = util.shallow_net.EEGShallowClassifier(in_chans, labelsize, window_size, return_feature=False)\n",
    "if cuda:\n",
    "    model.cuda()"
   ]
  },
  {
   "cell_type": "code",
   "execution_count": 10,
   "metadata": {},
   "outputs": [
    {
     "data": {
      "text/plain": [
       "2"
      ]
     },
     "execution_count": 10,
     "metadata": {},
     "output_type": "execute_result"
    }
   ],
   "source": [
    "labelsize"
   ]
  },
  {
   "cell_type": "code",
   "execution_count": 11,
   "metadata": {},
   "outputs": [
    {
     "name": "stdout",
     "output_type": "stream",
     "text": [
      "Epoch 0\n"
     ]
    },
    {
     "name": "stderr",
     "output_type": "stream",
     "text": [
      "/home/hainguyen/miniconda3/envs/eggnet/lib/python3.10/site-packages/braindecode/util.py:107: UserWarning: var_to_np has been renamed th_to_np, please use th_to_np instead\n",
      "  warn(\"var_to_np has been renamed th_to_np, please use th_to_np instead\")\n"
     ]
    },
    {
     "name": "stdout",
     "output_type": "stream",
     "text": [
      "Train  Loss: 0.48220\n",
      "Train  Accuracy: 76.5%\n",
      "Valid  Loss: 0.74491\n",
      "Valid  Accuracy: 68.4%\n",
      "model saved\n",
      "[[ 369  639]\n",
      " [  10 1034]]\n",
      "Normalized confusion matrix\n"
     ]
    },
    {
     "data": {
      "image/png": "[encoded data removed]",
      "text/plain": [
       "<Figure size 432x288 with 2 Axes>"
      ]
     },
     "metadata": {
      "needs_background": "light"
     },
     "output_type": "display_data"
    },
    {
     "name": "stderr",
     "output_type": "stream",
     "text": [
      "/home/hainguyen/miniconda3/envs/eggnet/lib/python3.10/site-packages/braindecode/util.py:66: UserWarning: np_to_var has been renamed np_to_th, please use np_to_th instead\n",
      "  warn(\"np_to_var has been renamed np_to_th, please use np_to_th instead\")\n"
     ]
    },
    {
     "name": "stdout",
     "output_type": "stream",
     "text": [
      "Epoch 1\n"
     ]
    },
    {
     "name": "stderr",
     "output_type": "stream",
     "text": [
      "/home/hainguyen/miniconda3/envs/eggnet/lib/python3.10/site-packages/braindecode/util.py:107: UserWarning: var_to_np has been renamed th_to_np, please use th_to_np instead\n",
      "  warn(\"var_to_np has been renamed th_to_np, please use th_to_np instead\")\n"
     ]
    },
    {
     "name": "stdout",
     "output_type": "stream",
     "text": [
      "Train  Loss: 0.36747\n",
      "Train  Accuracy: 83.5%\n",
      "Valid  Loss: 0.70827\n",
      "Valid  Accuracy: 69.2%\n",
      "model saved\n",
      "[[ 389  619]\n",
      " [  14 1030]]\n",
      "Normalized confusion matrix\n"
     ]
    },
    {
     "data": {
      "image/png": "[encoded data removed]",
      "text/plain": [
       "<Figure size 432x288 with 2 Axes>"
      ]
     },
     "metadata": {
      "needs_background": "light"
     },
     "output_type": "display_data"
    },
    {
     "name": "stderr",
     "output_type": "stream",
     "text": [
      "/home/hainguyen/miniconda3/envs/eggnet/lib/python3.10/site-packages/braindecode/util.py:66: UserWarning: np_to_var has been renamed np_to_th, please use np_to_th instead\n",
      "  warn(\"np_to_var has been renamed np_to_th, please use np_to_th instead\")\n"
     ]
    },
    {
     "name": "stdout",
     "output_type": "stream",
     "text": [
      "Epoch 2\n"
     ]
    },
    {
     "name": "stderr",
     "output_type": "stream",
     "text": [
      "/home/hainguyen/miniconda3/envs/eggnet/lib/python3.10/site-packages/braindecode/util.py:107: UserWarning: var_to_np has been renamed th_to_np, please use th_to_np instead\n",
      "  warn(\"var_to_np has been renamed th_to_np, please use th_to_np instead\")\n"
     ]
    },
    {
     "name": "stdout",
     "output_type": "stream",
     "text": [
      "Train  Loss: 0.30920\n",
      "Train  Accuracy: 87.2%\n",
      "Valid  Loss: 0.72429\n",
      "Valid  Accuracy: 69.5%\n",
      "model saved\n",
      "[[ 398  610]\n",
      " [  15 1029]]\n",
      "Normalized confusion matrix\n"
     ]
    },
    {
     "data": {
      "image/png": "[encoded data removed]",
      "text/plain": [
       "<Figure size 432x288 with 2 Axes>"
      ]
     },
     "metadata": {
      "needs_background": "light"
     },
     "output_type": "display_data"
    },
    {
     "name": "stderr",
     "output_type": "stream",
     "text": [
      "/home/hainguyen/miniconda3/envs/eggnet/lib/python3.10/site-packages/braindecode/util.py:66: UserWarning: np_to_var has been renamed np_to_th, please use np_to_th instead\n",
      "  warn(\"np_to_var has been renamed np_to_th, please use np_to_th instead\")\n"
     ]
    },
    {
     "name": "stdout",
     "output_type": "stream",
     "text": [
      "Epoch 3\n"
     ]
    },
    {
     "name": "stderr",
     "output_type": "stream",
     "text": [
      "/home/hainguyen/miniconda3/envs/eggnet/lib/python3.10/site-packages/braindecode/util.py:107: UserWarning: var_to_np has been renamed th_to_np, please use th_to_np instead\n",
      "  warn(\"var_to_np has been renamed th_to_np, please use th_to_np instead\")\n"
     ]
    },
    {
     "name": "stdout",
     "output_type": "stream",
     "text": [
      "Train  Loss: 0.26861\n",
      "Train  Accuracy: 89.7%\n",
      "Valid  Loss: 0.71719\n",
      "Valid  Accuracy: 70.5%\n",
      "model saved\n",
      "[[ 424  584]\n",
      " [  21 1023]]\n",
      "Normalized confusion matrix\n"
     ]
    },
    {
     "data": {
      "image/png": "[encoded data removed]",
      "text/plain": [
       "<Figure size 432x288 with 2 Axes>"
      ]
     },
     "metadata": {
      "needs_background": "light"
     },
     "output_type": "display_data"
    },
    {
     "name": "stderr",
     "output_type": "stream",
     "text": [
      "/home/hainguyen/miniconda3/envs/eggnet/lib/python3.10/site-packages/braindecode/util.py:66: UserWarning: np_to_var has been renamed np_to_th, please use np_to_th instead\n",
      "  warn(\"np_to_var has been renamed np_to_th, please use np_to_th instead\")\n"
     ]
    },
    {
     "name": "stdout",
     "output_type": "stream",
     "text": [
      "Epoch 4\n"
     ]
    },
    {
     "name": "stderr",
     "output_type": "stream",
     "text": [
      "/home/hainguyen/miniconda3/envs/eggnet/lib/python3.10/site-packages/braindecode/util.py:107: UserWarning: var_to_np has been renamed th_to_np, please use th_to_np instead\n",
      "  warn(\"var_to_np has been renamed th_to_np, please use th_to_np instead\")\n"
     ]
    },
    {
     "name": "stdout",
     "output_type": "stream",
     "text": [
      "Train  Loss: 0.23228\n",
      "Train  Accuracy: 91.4%\n",
      "Valid  Loss: 0.77557\n",
      "Valid  Accuracy: 70.1%\n",
      "Epoch 5\n",
      "Train  Loss: 0.20311\n",
      "Train  Accuracy: 93.0%\n",
      "Valid  Loss: 0.78893\n",
      "Valid  Accuracy: 71.2%\n",
      "model saved\n",
      "[[ 440  568]\n",
      " [  24 1020]]\n",
      "Normalized confusion matrix\n"
     ]
    },
    {
     "data": {
      "image/png": "[encoded data removed]",
      "text/plain": [
       "<Figure size 432x288 with 2 Axes>"
      ]
     },
     "metadata": {
      "needs_background": "light"
     },
     "output_type": "display_data"
    },
    {
     "name": "stderr",
     "output_type": "stream",
     "text": [
      "/home/hainguyen/miniconda3/envs/eggnet/lib/python3.10/site-packages/braindecode/util.py:66: UserWarning: np_to_var has been renamed np_to_th, please use np_to_th instead\n",
      "  warn(\"np_to_var has been renamed np_to_th, please use np_to_th instead\")\n"
     ]
    },
    {
     "name": "stdout",
     "output_type": "stream",
     "text": [
      "Epoch 6\n"
     ]
    },
    {
     "name": "stderr",
     "output_type": "stream",
     "text": [
      "/home/hainguyen/miniconda3/envs/eggnet/lib/python3.10/site-packages/braindecode/util.py:107: UserWarning: var_to_np has been renamed th_to_np, please use th_to_np instead\n",
      "  warn(\"var_to_np has been renamed th_to_np, please use th_to_np instead\")\n"
     ]
    },
    {
     "name": "stdout",
     "output_type": "stream",
     "text": [
      "Train  Loss: 0.17364\n",
      "Train  Accuracy: 94.5%\n",
      "Valid  Loss: 0.83329\n",
      "Valid  Accuracy: 70.8%\n",
      "Epoch 7\n",
      "Train  Loss: 0.14723\n",
      "Train  Accuracy: 96.0%\n",
      "Valid  Loss: 0.91638\n",
      "Valid  Accuracy: 70.6%\n",
      "Epoch 8\n",
      "Train  Loss: 0.12585\n",
      "Train  Accuracy: 96.7%\n",
      "Valid  Loss: 0.90447\n",
      "Valid  Accuracy: 71.9%\n",
      "model saved\n",
      "[[ 459  549]\n",
      " [  27 1017]]\n",
      "Normalized confusion matrix\n"
     ]
    },
    {
     "data": {
      "image/png": "[encoded data removed]",
      "text/plain": [
       "<Figure size 432x288 with 2 Axes>"
      ]
     },
     "metadata": {
      "needs_background": "light"
     },
     "output_type": "display_data"
    },
    {
     "name": "stderr",
     "output_type": "stream",
     "text": [
      "/home/hainguyen/miniconda3/envs/eggnet/lib/python3.10/site-packages/braindecode/util.py:66: UserWarning: np_to_var has been renamed np_to_th, please use np_to_th instead\n",
      "  warn(\"np_to_var has been renamed np_to_th, please use np_to_th instead\")\n"
     ]
    },
    {
     "name": "stdout",
     "output_type": "stream",
     "text": [
      "Epoch 9\n"
     ]
    },
    {
     "name": "stderr",
     "output_type": "stream",
     "text": [
      "/home/hainguyen/miniconda3/envs/eggnet/lib/python3.10/site-packages/braindecode/util.py:107: UserWarning: var_to_np has been renamed th_to_np, please use th_to_np instead\n",
      "  warn(\"var_to_np has been renamed th_to_np, please use th_to_np instead\")\n"
     ]
    },
    {
     "name": "stdout",
     "output_type": "stream",
     "text": [
      "Train  Loss: 0.10422\n",
      "Train  Accuracy: 97.5%\n",
      "Valid  Loss: 0.96194\n",
      "Valid  Accuracy: 72.1%\n",
      "model saved\n",
      "[[ 461  547]\n",
      " [  25 1019]]\n",
      "Normalized confusion matrix\n"
     ]
    },
    {
     "data": {
      "image/png": "[encoded data removed]",
      "text/plain": [
       "<Figure size 432x288 with 2 Axes>"
      ]
     },
     "metadata": {
      "needs_background": "light"
     },
     "output_type": "display_data"
    },
    {
     "name": "stderr",
     "output_type": "stream",
     "text": [
      "/home/hainguyen/miniconda3/envs/eggnet/lib/python3.10/site-packages/braindecode/util.py:66: UserWarning: np_to_var has been renamed np_to_th, please use np_to_th instead\n",
      "  warn(\"np_to_var has been renamed np_to_th, please use np_to_th instead\")\n"
     ]
    },
    {
     "name": "stdout",
     "output_type": "stream",
     "text": [
      "Epoch 10\n"
     ]
    },
    {
     "name": "stderr",
     "output_type": "stream",
     "text": [
      "/home/hainguyen/miniconda3/envs/eggnet/lib/python3.10/site-packages/braindecode/util.py:107: UserWarning: var_to_np has been renamed th_to_np, please use th_to_np instead\n",
      "  warn(\"var_to_np has been renamed th_to_np, please use th_to_np instead\")\n"
     ]
    },
    {
     "name": "stdout",
     "output_type": "stream",
     "text": [
      "Train  Loss: 0.08876\n",
      "Train  Accuracy: 98.1%\n",
      "Valid  Loss: 1.00057\n",
      "Valid  Accuracy: 73.1%\n",
      "model saved\n",
      "[[ 490  518]\n",
      " [  33 1011]]\n",
      "Normalized confusion matrix\n"
     ]
    },
    {
     "data": {
      "image/png": "[encoded data removed]",
      "text/plain": [
       "<Figure size 432x288 with 2 Axes>"
      ]
     },
     "metadata": {
      "needs_background": "light"
     },
     "output_type": "display_data"
    },
    {
     "name": "stderr",
     "output_type": "stream",
     "text": [
      "/home/hainguyen/miniconda3/envs/eggnet/lib/python3.10/site-packages/braindecode/util.py:66: UserWarning: np_to_var has been renamed np_to_th, please use np_to_th instead\n",
      "  warn(\"np_to_var has been renamed np_to_th, please use np_to_th instead\")\n"
     ]
    },
    {
     "name": "stdout",
     "output_type": "stream",
     "text": [
      "Epoch 11\n"
     ]
    },
    {
     "name": "stderr",
     "output_type": "stream",
     "text": [
      "/home/hainguyen/miniconda3/envs/eggnet/lib/python3.10/site-packages/braindecode/util.py:107: UserWarning: var_to_np has been renamed th_to_np, please use th_to_np instead\n",
      "  warn(\"var_to_np has been renamed th_to_np, please use th_to_np instead\")\n"
     ]
    },
    {
     "name": "stdout",
     "output_type": "stream",
     "text": [
      "Train  Loss: 0.07181\n",
      "Train  Accuracy: 98.7%\n",
      "Valid  Loss: 1.05586\n",
      "Valid  Accuracy: 73.5%\n",
      "model saved\n",
      "[[ 499  509]\n",
      " [  34 1010]]\n",
      "Normalized confusion matrix\n"
     ]
    },
    {
     "data": {
      "image/png": "[encoded data removed]",
      "text/plain": [
       "<Figure size 432x288 with 2 Axes>"
      ]
     },
     "metadata": {
      "needs_background": "light"
     },
     "output_type": "display_data"
    },
    {
     "name": "stderr",
     "output_type": "stream",
     "text": [
      "/home/hainguyen/miniconda3/envs/eggnet/lib/python3.10/site-packages/braindecode/util.py:66: UserWarning: np_to_var has been renamed np_to_th, please use np_to_th instead\n",
      "  warn(\"np_to_var has been renamed np_to_th, please use np_to_th instead\")\n"
     ]
    },
    {
     "name": "stdout",
     "output_type": "stream",
     "text": [
      "Epoch 12\n"
     ]
    },
    {
     "name": "stderr",
     "output_type": "stream",
     "text": [
      "/home/hainguyen/miniconda3/envs/eggnet/lib/python3.10/site-packages/braindecode/util.py:107: UserWarning: var_to_np has been renamed th_to_np, please use th_to_np instead\n",
      "  warn(\"var_to_np has been renamed th_to_np, please use th_to_np instead\")\n"
     ]
    },
    {
     "name": "stdout",
     "output_type": "stream",
     "text": [
      "Train  Loss: 0.06109\n",
      "Train  Accuracy: 98.9%\n",
      "Valid  Loss: 1.11512\n",
      "Valid  Accuracy: 73.2%\n",
      "Epoch 13\n",
      "Train  Loss: 0.05017\n",
      "Train  Accuracy: 99.3%\n",
      "Valid  Loss: 1.20905\n",
      "Valid  Accuracy: 72.5%\n",
      "Epoch 14\n",
      "Train  Loss: 0.04149\n",
      "Train  Accuracy: 99.4%\n",
      "Valid  Loss: 1.25387\n",
      "Valid  Accuracy: 72.7%\n",
      "Epoch 15\n",
      "Train  Loss: 0.03511\n",
      "Train  Accuracy: 99.5%\n",
      "Valid  Loss: 1.26258\n",
      "Valid  Accuracy: 72.8%\n",
      "Epoch 16\n",
      "Train  Loss: 0.02901\n",
      "Train  Accuracy: 99.7%\n",
      "Valid  Loss: 1.33137\n",
      "Valid  Accuracy: 72.7%\n",
      "Epoch 17\n",
      "Train  Loss: 0.02459\n",
      "Train  Accuracy: 99.7%\n",
      "Valid  Loss: 1.37426\n",
      "Valid  Accuracy: 72.1%\n",
      "Epoch 18\n",
      "Train  Loss: 0.02086\n",
      "Train  Accuracy: 99.8%\n",
      "Valid  Loss: 1.38541\n",
      "Valid  Accuracy: 72.7%\n",
      "Epoch 19\n",
      "Train  Loss: 0.01822\n",
      "Train  Accuracy: 99.8%\n",
      "Valid  Loss: 1.52920\n",
      "Valid  Accuracy: 70.9%\n",
      "Epoch 20\n",
      "Train  Loss: 0.01571\n",
      "Train  Accuracy: 99.9%\n",
      "Valid  Loss: 1.53788\n",
      "Valid  Accuracy: 71.7%\n",
      "Epoch 21\n",
      "Train  Loss: 0.01403\n",
      "Train  Accuracy: 99.8%\n",
      "Valid  Loss: 1.52692\n",
      "Valid  Accuracy: 72.6%\n",
      "Epoch 22\n",
      "Train  Loss: 0.01293\n",
      "Train  Accuracy: 99.8%\n",
      "Valid  Loss: 1.53750\n",
      "Valid  Accuracy: 72.3%\n",
      "Epoch 23\n",
      "Train  Loss: 0.01038\n",
      "Train  Accuracy: 99.9%\n",
      "Valid  Loss: 1.53170\n",
      "Valid  Accuracy: 72.9%\n",
      "Epoch 24\n",
      "Train  Loss: 0.00946\n",
      "Train  Accuracy: 99.9%\n",
      "Valid  Loss: 1.58553\n",
      "Valid  Accuracy: 72.9%\n",
      "Epoch 25\n",
      "Train  Loss: 0.00806\n",
      "Train  Accuracy: 99.9%\n",
      "Valid  Loss: 1.64052\n",
      "Valid  Accuracy: 72.1%\n",
      "Epoch 26\n",
      "Train  Loss: 0.00776\n",
      "Train  Accuracy: 99.9%\n",
      "Valid  Loss: 1.62437\n",
      "Valid  Accuracy: 73.1%\n",
      "Epoch 27\n",
      "Train  Loss: 0.00602\n",
      "Train  Accuracy: 99.9%\n",
      "Valid  Loss: 1.75056\n",
      "Valid  Accuracy: 72.2%\n",
      "Epoch 28\n",
      "Train  Loss: 0.00527\n",
      "Train  Accuracy: 100.0%\n",
      "Valid  Loss: 1.75531\n",
      "Valid  Accuracy: 71.8%\n",
      "Epoch 29\n",
      "Train  Loss: 0.00493\n",
      "Train  Accuracy: 100.0%\n",
      "Valid  Loss: 1.81711\n",
      "Valid  Accuracy: 71.0%\n",
      "Epoch 30\n",
      "Train  Loss: 0.00442\n",
      "Train  Accuracy: 100.0%\n",
      "Valid  Loss: 1.86333\n",
      "Valid  Accuracy: 71.2%\n",
      "Epoch 31\n",
      "Train  Loss: 0.00379\n",
      "Train  Accuracy: 100.0%\n",
      "Valid  Loss: 1.78094\n",
      "Valid  Accuracy: 72.2%\n",
      "Epoch 32\n",
      "Train  Loss: 0.00337\n",
      "Train  Accuracy: 100.0%\n",
      "Valid  Loss: 1.80988\n",
      "Valid  Accuracy: 72.0%\n",
      "Epoch 33\n",
      "Train  Loss: 0.00306\n",
      "Train  Accuracy: 100.0%\n",
      "Valid  Loss: 1.89266\n",
      "Valid  Accuracy: 71.2%\n",
      "Epoch 34\n",
      "Train  Loss: 0.00283\n",
      "Train  Accuracy: 100.0%\n",
      "Valid  Loss: 1.90062\n",
      "Valid  Accuracy: 71.4%\n",
      "Epoch 35\n",
      "Train  Loss: 0.00253\n",
      "Train  Accuracy: 100.0%\n",
      "Valid  Loss: 1.89134\n",
      "Valid  Accuracy: 71.4%\n",
      "Epoch 36\n",
      "Train  Loss: 0.00229\n",
      "Train  Accuracy: 100.0%\n",
      "Valid  Loss: 1.87188\n",
      "Valid  Accuracy: 71.8%\n",
      "Epoch 37\n",
      "Train  Loss: 0.00231\n",
      "Train  Accuracy: 100.0%\n",
      "Valid  Loss: 1.83256\n",
      "Valid  Accuracy: 72.5%\n",
      "Epoch 38\n",
      "Train  Loss: 0.00197\n",
      "Train  Accuracy: 100.0%\n",
      "Valid  Loss: 1.93931\n",
      "Valid  Accuracy: 71.5%\n",
      "Epoch 39\n",
      "Train  Loss: 0.00192\n",
      "Train  Accuracy: 100.0%\n",
      "Valid  Loss: 1.90521\n",
      "Valid  Accuracy: 72.2%\n",
      "Epoch 40\n",
      "Train  Loss: 0.00179\n",
      "Train  Accuracy: 100.0%\n",
      "Valid  Loss: 1.92704\n",
      "Valid  Accuracy: 71.9%\n",
      "Epoch 41\n",
      "Train  Loss: 0.00162\n",
      "Train  Accuracy: 100.0%\n",
      "Valid  Loss: 2.03561\n",
      "Valid  Accuracy: 71.2%\n",
      "Epoch 42\n",
      "Train  Loss: 0.00143\n",
      "Train  Accuracy: 100.0%\n",
      "Valid  Loss: 2.02176\n",
      "Valid  Accuracy: 71.7%\n",
      "Epoch 43\n",
      "Train  Loss: 0.00141\n",
      "Train  Accuracy: 100.0%\n",
      "Valid  Loss: 2.17538\n",
      "Valid  Accuracy: 70.3%\n",
      "Epoch 44\n",
      "Train  Loss: 0.00126\n",
      "Train  Accuracy: 100.0%\n",
      "Valid  Loss: 2.08063\n",
      "Valid  Accuracy: 71.2%\n",
      "Epoch 45\n",
      "Train  Loss: 0.00139\n",
      "Train  Accuracy: 100.0%\n",
      "Valid  Loss: 1.99766\n",
      "Valid  Accuracy: 71.7%\n",
      "Epoch 46\n",
      "Train  Loss: 0.00116\n",
      "Train  Accuracy: 100.0%\n",
      "Valid  Loss: 2.18753\n",
      "Valid  Accuracy: 70.5%\n",
      "Epoch 47\n",
      "Train  Loss: 0.00127\n",
      "Train  Accuracy: 100.0%\n",
      "Valid  Loss: 2.15391\n",
      "Valid  Accuracy: 70.8%\n",
      "Epoch 48\n",
      "Train  Loss: 0.00102\n",
      "Train  Accuracy: 100.0%\n",
      "Valid  Loss: 2.16883\n",
      "Valid  Accuracy: 70.4%\n",
      "Epoch 49\n",
      "Train  Loss: 0.00101\n",
      "Train  Accuracy: 100.0%\n",
      "Valid  Loss: 2.20513\n",
      "Valid  Accuracy: 70.1%\n",
      "time is 1559.0906510353088\n"
     ]
    }
   ],
   "source": [
    "batch_size = 128\n",
    "optimizer = optim.AdamW(model.parameters(), lr=0.0001, weight_decay=0.5*0.001)\n",
    "\n",
    "total_epoch = -1\n",
    "Tlosses, Taccuracies = [], []\n",
    "Vlosses, Vaccuracies = [], []\n",
    "highest_acc = 0\n",
    "\n",
    "savename = \"demo.pth\"\n",
    "\n",
    "start=time.time()\n",
    "\n",
    "for i_epoch in range(50):\n",
    "    total_epoch += 1\n",
    "    # Randomize batches ids and get iterater 'i_trials_in_batch'\n",
    "    i_trials_in_batch = get_balanced_batches(len(train_set.X), rng, shuffle=True,\n",
    "                                             batch_size=batch_size)\n",
    "    # Set model to training mode\n",
    "    model.train()\n",
    "    for i_trials in i_trials_in_batch:\n",
    "        # Have to add empty fourth dimension to X for training\n",
    "        batch_X = train_set.X[i_trials][:, :, :, None]\n",
    "        batch_y = train_set.y[i_trials]\n",
    "        # convert from nparray to torch tensor\n",
    "        net_in = np_to_var(batch_X)\n",
    "    \n",
    "        if cuda:\n",
    "            net_in = net_in.cuda()\n",
    "        net_target = np_to_var(batch_y)\n",
    "        if cuda:\n",
    "            net_target = net_target.cuda()\n",
    "        # Remove gradients of last backward pass from all parameters\n",
    "        optimizer.zero_grad()\n",
    "        # Compute outputs of the network\n",
    "        outputs = model(net_in)\n",
    "        # Compute the loss\n",
    "        loss = F.nll_loss(outputs, net_target)\n",
    "        # Do the backpropagation\n",
    "        loss.backward()\n",
    "        # Update parameters with the optimizer\n",
    "        optimizer.step()\n",
    "    \n",
    "    # Set model to evaluation mode\n",
    "    model.eval()\n",
    "    print(\"Epoch {:d}\".format(total_epoch))\n",
    "    average_acc = []\n",
    "    average_loss = []\n",
    "    \n",
    "    # Here we compute training accuracy and validation accuracy of current model\n",
    "    for setname, dataset in (('Train', train_set), ('Valid', valid_set)):\n",
    "        i_trials_in_batch = get_balanced_batches(len(dataset.X), rng, shuffle=False,\n",
    "                                                 batch_size=batch_size)\n",
    "        outputs=None\n",
    "        for i_trials in i_trials_in_batch:\n",
    "            batch_X = dataset.X[i_trials][:, :, :, None]\n",
    "            batch_y = dataset.y[i_trials]\n",
    "            net_in = np_to_var(batch_X)\n",
    "            if cuda:\n",
    "                net_in = net_in.cuda()\n",
    "            toutputs = model(net_in)\n",
    "            if outputs is None:\n",
    "                temp = toutputs.cpu()\n",
    "                outputs = temp.detach().numpy()\n",
    "            else:\n",
    "                temp = toutputs.cpu()\n",
    "                outputs = np.concatenate((outputs,temp.detach().numpy()))\n",
    "        net_target = np_to_var(dataset.y)\n",
    "        loss = F.nll_loss(torch.from_numpy(outputs), net_target)\n",
    "        print(\"{:6s} Loss: {:.5f}\".format(\n",
    "            setname, float(var_to_np(loss))))\n",
    "        predicted_labels = np.argmax((outputs), axis=1)\n",
    "        accuracy = np.mean(dataset.y  == predicted_labels)\n",
    "        \n",
    "        print(\"{:6s} Accuracy: {:.1f}%\".format(setname, accuracy * 100))\n",
    "        if setname == 'Train':\n",
    "            Tlosses.append(loss)\n",
    "            Taccuracies.append(accuracy)\n",
    "            current_Tacc=accuracy\n",
    "        elif setname == 'Valid':\n",
    "            Vlosses.append(loss)\n",
    "            Vaccuracies.append(accuracy)\n",
    "            if accuracy>=highest_acc:\n",
    "                torch.save({\n",
    "                    'in_chans': in_chans,\n",
    "                    'model_state_dict': model.state_dict(),\n",
    "                    'optimizer_state_dict': optimizer.state_dict(),\n",
    "                    'n_classes': labelsize,\n",
    "                    'input_time_length': window_size\n",
    "                }, savename)\n",
    "\n",
    "                highest_acc=accuracy\n",
    "                print('model saved')\n",
    "                # plot_confusion_matrix(dataset.y, predicted_labels, \n",
    "                #                       classes=['LH', 'RH', 'Other'], normalize=True,\n",
    "                #                       title='Validation confusion matrix')\n",
    "                # plt.show()\n",
    "                plot_confusion_matrix(dataset.y, predicted_labels, \n",
    "                                      classes=['RH', 'Other'], normalize=True,\n",
    "                                      title='Validation confusion matrix')\n",
    "                plt.show()\n",
    "        else:\n",
    "            average_acc.append(accuracy)\n",
    "            average_loss.append(accuracy)\n",
    "end = time.time()\n",
    "\n",
    "print('time is {}'.format(end-start))"
   ]
  },
  {
   "cell_type": "markdown",
   "metadata": {},
   "source": [
    "Here we can observe that on training set, the classification accuracy is fairly high, while it is usually not able to generalised well to the new subject directly with this simple strategy, this subject is just a well-performed case for tutorial purpose. Usually validation and test accuracy of a new subject decrease a lot (sometimes 30% or even more). Transfer learning strategies should be used to solve this problem."
   ]
  },
  {
   "cell_type": "code",
   "execution_count": 12,
   "metadata": {},
   "outputs": [
    {
     "data": {
      "image/png": "[encoded data removed]",
      "text/plain": [
       "<Figure size 432x288 with 1 Axes>"
      ]
     },
     "metadata": {
      "needs_background": "light"
     },
     "output_type": "display_data"
    },
    {
     "data": {
      "image/png": "[encoded data removed]",
      "text/plain": [
       "<Figure size 432x288 with 1 Axes>"
      ]
     },
     "metadata": {
      "needs_background": "light"
     },
     "output_type": "display_data"
    }
   ],
   "source": [
    "t = np.arange(0.0, len(Tlosses), 1)+1\n",
    "plt.plot(t, Tlosses, 'r', t, Vlosses, 'y')\n",
    "plt.legend(('Training loss', 'validation loss'))\n",
    "plt.show()\n",
    "\n",
    "plt.plot(t, Taccuracies, 'r', t, Vaccuracies, 'y')\n",
    "plt.legend(('Training accuracy', 'Validation accuracy'))\n",
    "plt.show()"
   ]
  },
  {
   "cell_type": "code",
   "execution_count": 13,
   "metadata": {},
   "outputs": [
    {
     "name": "stdout",
     "output_type": "stream",
     "text": [
      "testset Loss: 1.05586\n",
      "testset Accuracy: 73.5%\n",
      "[[ 499  509]\n",
      " [  34 1010]]\n",
      "Normalized confusion matrix\n"
     ]
    },
    {
     "data": {
      "image/png": "[encoded data removed]",
      "text/plain": [
       "<Figure size 432x288 with 2 Axes>"
      ]
     },
     "metadata": {
      "needs_background": "light"
     },
     "output_type": "display_data"
    }
   ],
   "source": [
    "model = util.shallow_net.EEGShallowClassifier(in_chans, labelsize, window_size, return_feature=False)\n",
    "if cuda:\n",
    "    model.cuda()\n",
    "checkpoint = torch.load(savename)\n",
    "model.load_state_dict(checkpoint['model_state_dict'])\n",
    "model.eval()\n",
    "\n",
    "average_acc, average_loss = [], []\n",
    "setname = 'testset'\n",
    "dataset = test_set\n",
    "\n",
    "i_trials_in_batch = get_balanced_batches(len(dataset.X), rng, shuffle=False,\n",
    "                                         batch_size=batch_size)\n",
    "outputs=None\n",
    "for i_trials in i_trials_in_batch:\n",
    "    # Have to add empty fourth dimension to X\n",
    "    batch_X = dataset.X[i_trials][:, :, :, None]\n",
    "    batch_y = dataset.y[i_trials]\n",
    "    net_in = np_to_var(batch_X)\n",
    "    if cuda:\n",
    "        net_in = net_in.cuda()\n",
    "    toutputs = model(net_in)\n",
    "    if outputs is None:\n",
    "        temp = toutputs.cpu()\n",
    "        outputs = temp.detach().numpy()\n",
    "    else:\n",
    "        temp = toutputs.cpu()\n",
    "        outputs = np.concatenate((outputs,temp.detach().numpy()))\n",
    "\n",
    "net_target = np_to_var(dataset.y)\n",
    "loss = F.nll_loss(torch.from_numpy(outputs), net_target)\n",
    "print(\"{:6s} Loss: {:.5f}\".format(setname, float(var_to_np(loss))))\n",
    "predicted_labels = np.argmax((outputs), axis=1)\n",
    "accuracy = np.mean(dataset.y  == predicted_labels)\n",
    "\n",
    "print(\"{:6s} Accuracy: {:.1f}%\".format(setname, accuracy * 100))\n",
    "plot_confusion_matrix(dataset.y, predicted_labels, \n",
    "                      classes=['RH','Other'], normalize=True,\n",
    "                      title='Validation confusion matrix')\n",
    "plt.show()"
   ]
  }
 ],
 "metadata": {
  "kernelspec": {
   "display_name": "Python 3.10.4 ('eggnet')",
   "language": "python",
   "name": "python3"
  },
  "language_info": {
   "codemirror_mode": {
    "name": "ipython",
    "version": 3
   },
   "file_extension": ".py",
   "mimetype": "text/x-python",
   "name": "python",
   "nbconvert_exporter": "python",
   "pygments_lexer": "ipython3",
   "version": "3.10.4"
  },
  "vscode": {
   "interpreter": {
    "hash": "8dadc09e9e656ce114ce8bffb8d66b5adf48e1dd9d6a925cb2b3b63f6288dd2c"
   }
  }
 },
 "nbformat": 4,
 "nbformat_minor": 4
}
